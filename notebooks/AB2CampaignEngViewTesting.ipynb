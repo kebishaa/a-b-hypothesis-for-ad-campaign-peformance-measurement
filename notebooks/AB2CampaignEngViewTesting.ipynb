{
 "cells": [
  {
   "cell_type": "markdown",
   "id": "4e4f86ab",
   "metadata": {},
   "source": [
    "### Hypothesis Testing\n",
    "\n",
    "- classical p-value\n",
    "- sequential A/B testing\n",
    "\n",
    "E_cr - conversion rate for exposed group\n",
    "\n",
    "C_cr - conversion rate for control group - baseline conversion"
   ]
  },
  {
   "cell_type": "code",
   "execution_count": 1,
   "id": "eae5bd82",
   "metadata": {},
   "outputs": [],
   "source": [
    "import imp\n",
    "import sys\n",
    "import os\n",
    "import pandas as pd\n",
    "import numpy as np\n",
    "import math\n",
    "from math import factorial\n",
    "import logging\n",
    "\n",
    "import warnings\n",
    "warnings.filterwarnings(\"ignore\")\n",
    "\n",
    "sys.path.append(os.path.abspath(os.path.join(\"../scripts\")))\n",
    "from DistributionPlots import DistributionPlots\n",
    "DP = DistributionPlots()\n",
    "\n",
    "from ABTestingFunctions import ABTesting\n",
    "ABT = ABTesting()\n",
    " \n",
    " \n",
    "from sequential_testing_helper import Sequential_AB_Helper\n",
    "seq = Sequential_AB_Helper()\n",
    "\n",
    "import data_loader\n",
    "import ploting_utils\n",
    "import hypothesis_test\n"
   ]
  },
  {
   "cell_type": "code",
   "execution_count": 2,
   "id": "fcc573ce",
   "metadata": {},
   "outputs": [],
   "source": [
    "logging.basicConfig(filename='../logfile.log', filemode='a',\n",
    "                    encoding='utf-8', level=logging.DEBUG)\n"
   ]
  },
  {
   "cell_type": "code",
   "execution_count": 3,
   "id": "9ce2ded4",
   "metadata": {},
   "outputs": [
    {
     "data": {
      "text/html": [
       "<div>\n",
       "<style scoped>\n",
       "    .dataframe tbody tr th:only-of-type {\n",
       "        vertical-align: middle;\n",
       "    }\n",
       "\n",
       "    .dataframe tbody tr th {\n",
       "        vertical-align: top;\n",
       "    }\n",
       "\n",
       "    .dataframe thead th {\n",
       "        text-align: right;\n",
       "    }\n",
       "</style>\n",
       "<table border=\"1\" class=\"dataframe\">\n",
       "  <thead>\n",
       "    <tr style=\"text-align: right;\">\n",
       "      <th></th>\n",
       "      <th>Unnamed: 0</th>\n",
       "      <th>auction_id</th>\n",
       "      <th>experiment</th>\n",
       "      <th>date</th>\n",
       "      <th>hour</th>\n",
       "      <th>device_make</th>\n",
       "      <th>platform_os</th>\n",
       "      <th>browser</th>\n",
       "      <th>yes</th>\n",
       "      <th>no</th>\n",
       "    </tr>\n",
       "  </thead>\n",
       "  <tbody>\n",
       "    <tr>\n",
       "      <th>0</th>\n",
       "      <td>1333639</td>\n",
       "      <td>8ec30aff-2332-4a1f-9330-b93abb32bc94</td>\n",
       "      <td>control</td>\n",
       "      <td>&lt;built-in method date of Timestamp object at 0...</td>\n",
       "      <td>15</td>\n",
       "      <td>LG</td>\n",
       "      <td>156</td>\n",
       "      <td>6</td>\n",
       "      <td>0.0</td>\n",
       "      <td>0.0</td>\n",
       "    </tr>\n",
       "    <tr>\n",
       "      <th>1</th>\n",
       "      <td>730667</td>\n",
       "      <td>4e1bcb56-357c-4186-9d39-3be82e3519f1</td>\n",
       "      <td>control</td>\n",
       "      <td>&lt;built-in method date of Timestamp object at 0...</td>\n",
       "      <td>7</td>\n",
       "      <td>Samsung</td>\n",
       "      <td>162</td>\n",
       "      <td>6</td>\n",
       "      <td>0.0</td>\n",
       "      <td>0.0</td>\n",
       "    </tr>\n",
       "    <tr>\n",
       "      <th>2</th>\n",
       "      <td>2069787</td>\n",
       "      <td>dd6ec327-fcfd-4a80-89c0-dccd3dd80f09</td>\n",
       "      <td>control</td>\n",
       "      <td>&lt;built-in method date of Timestamp object at 0...</td>\n",
       "      <td>14</td>\n",
       "      <td>Apple</td>\n",
       "      <td>178</td>\n",
       "      <td>15</td>\n",
       "      <td>0.0</td>\n",
       "      <td>0.0</td>\n",
       "    </tr>\n",
       "    <tr>\n",
       "      <th>3</th>\n",
       "      <td>1692366</td>\n",
       "      <td>b5222d0f-39e3-4c02-a12f-1ef09d4f861f</td>\n",
       "      <td>control</td>\n",
       "      <td>&lt;built-in method date of Timestamp object at 0...</td>\n",
       "      <td>22</td>\n",
       "      <td>Apple</td>\n",
       "      <td>167</td>\n",
       "      <td>15</td>\n",
       "      <td>0.0</td>\n",
       "      <td>0.0</td>\n",
       "    </tr>\n",
       "    <tr>\n",
       "      <th>4</th>\n",
       "      <td>1384123</td>\n",
       "      <td>9428377d-1504-4407-87c2-ce518f67eb87</td>\n",
       "      <td>control</td>\n",
       "      <td>&lt;built-in method date of Timestamp object at 0...</td>\n",
       "      <td>21</td>\n",
       "      <td>Samsung</td>\n",
       "      <td>155</td>\n",
       "      <td>15</td>\n",
       "      <td>0.0</td>\n",
       "      <td>0.0</td>\n",
       "    </tr>\n",
       "    <tr>\n",
       "      <th>...</th>\n",
       "      <td>...</td>\n",
       "      <td>...</td>\n",
       "      <td>...</td>\n",
       "      <td>...</td>\n",
       "      <td>...</td>\n",
       "      <td>...</td>\n",
       "      <td>...</td>\n",
       "      <td>...</td>\n",
       "      <td>...</td>\n",
       "      <td>...</td>\n",
       "    </tr>\n",
       "    <tr>\n",
       "      <th>912707</th>\n",
       "      <td>1426994</td>\n",
       "      <td>98c10ba3-932f-4feb-ad01-d1b549dbd905</td>\n",
       "      <td>exposed</td>\n",
       "      <td>&lt;built-in method date of Timestamp object at 0...</td>\n",
       "      <td>14</td>\n",
       "      <td>Samsung</td>\n",
       "      <td>162</td>\n",
       "      <td>15</td>\n",
       "      <td>0.0</td>\n",
       "      <td>1.0</td>\n",
       "    </tr>\n",
       "    <tr>\n",
       "      <th>912708</th>\n",
       "      <td>1846194</td>\n",
       "      <td>c591dcc1-2526-4caa-8561-0f9da1fe565b</td>\n",
       "      <td>exposed</td>\n",
       "      <td>&lt;built-in method date of Timestamp object at 0...</td>\n",
       "      <td>8</td>\n",
       "      <td>Samsung</td>\n",
       "      <td>162</td>\n",
       "      <td>15</td>\n",
       "      <td>0.0</td>\n",
       "      <td>0.0</td>\n",
       "    </tr>\n",
       "    <tr>\n",
       "      <th>912709</th>\n",
       "      <td>2133458</td>\n",
       "      <td>e44046fa-0d3e-4680-99a8-f8d2167890f4</td>\n",
       "      <td>exposed</td>\n",
       "      <td>&lt;built-in method date of Timestamp object at 0...</td>\n",
       "      <td>5</td>\n",
       "      <td>Apple</td>\n",
       "      <td>101</td>\n",
       "      <td>7</td>\n",
       "      <td>0.0</td>\n",
       "      <td>0.0</td>\n",
       "    </tr>\n",
       "    <tr>\n",
       "      <th>912710</th>\n",
       "      <td>1815799</td>\n",
       "      <td>c25657c2-f1b6-4f50-9610-9f3bbef2594d</td>\n",
       "      <td>exposed</td>\n",
       "      <td>&lt;built-in method date of Timestamp object at 0...</td>\n",
       "      <td>14</td>\n",
       "      <td>Samsung</td>\n",
       "      <td>101</td>\n",
       "      <td>6</td>\n",
       "      <td>1.0</td>\n",
       "      <td>0.0</td>\n",
       "    </tr>\n",
       "    <tr>\n",
       "      <th>912711</th>\n",
       "      <td>213933</td>\n",
       "      <td>16d54193-0661-4f2b-af10-f2ec88a73b59</td>\n",
       "      <td>exposed</td>\n",
       "      <td>&lt;built-in method date of Timestamp object at 0...</td>\n",
       "      <td>21</td>\n",
       "      <td>Samsung</td>\n",
       "      <td>101</td>\n",
       "      <td>15</td>\n",
       "      <td>0.0</td>\n",
       "      <td>0.0</td>\n",
       "    </tr>\n",
       "  </tbody>\n",
       "</table>\n",
       "<p>912712 rows × 10 columns</p>\n",
       "</div>"
      ],
      "text/plain": [
       "        Unnamed: 0                            auction_id experiment  \\\n",
       "0          1333639  8ec30aff-2332-4a1f-9330-b93abb32bc94    control   \n",
       "1           730667  4e1bcb56-357c-4186-9d39-3be82e3519f1    control   \n",
       "2          2069787  dd6ec327-fcfd-4a80-89c0-dccd3dd80f09    control   \n",
       "3          1692366  b5222d0f-39e3-4c02-a12f-1ef09d4f861f    control   \n",
       "4          1384123  9428377d-1504-4407-87c2-ce518f67eb87    control   \n",
       "...            ...                                   ...        ...   \n",
       "912707     1426994  98c10ba3-932f-4feb-ad01-d1b549dbd905    exposed   \n",
       "912708     1846194  c591dcc1-2526-4caa-8561-0f9da1fe565b    exposed   \n",
       "912709     2133458  e44046fa-0d3e-4680-99a8-f8d2167890f4    exposed   \n",
       "912710     1815799  c25657c2-f1b6-4f50-9610-9f3bbef2594d    exposed   \n",
       "912711      213933  16d54193-0661-4f2b-af10-f2ec88a73b59    exposed   \n",
       "\n",
       "                                                     date  hour device_make  \\\n",
       "0       <built-in method date of Timestamp object at 0...    15          LG   \n",
       "1       <built-in method date of Timestamp object at 0...     7     Samsung   \n",
       "2       <built-in method date of Timestamp object at 0...    14       Apple   \n",
       "3       <built-in method date of Timestamp object at 0...    22       Apple   \n",
       "4       <built-in method date of Timestamp object at 0...    21     Samsung   \n",
       "...                                                   ...   ...         ...   \n",
       "912707  <built-in method date of Timestamp object at 0...    14     Samsung   \n",
       "912708  <built-in method date of Timestamp object at 0...     8     Samsung   \n",
       "912709  <built-in method date of Timestamp object at 0...     5       Apple   \n",
       "912710  <built-in method date of Timestamp object at 0...    14     Samsung   \n",
       "912711  <built-in method date of Timestamp object at 0...    21     Samsung   \n",
       "\n",
       "        platform_os  browser  yes   no  \n",
       "0               156        6  0.0  0.0  \n",
       "1               162        6  0.0  0.0  \n",
       "2               178       15  0.0  0.0  \n",
       "3               167       15  0.0  0.0  \n",
       "4               155       15  0.0  0.0  \n",
       "...             ...      ...  ...  ...  \n",
       "912707          162       15  0.0  1.0  \n",
       "912708          162       15  0.0  0.0  \n",
       "912709          101        7  0.0  0.0  \n",
       "912710          101        6  1.0  0.0  \n",
       "912711          101       15  0.0  0.0  \n",
       "\n",
       "[912712 rows x 10 columns]"
      ]
     },
     "execution_count": 3,
     "metadata": {},
     "output_type": "execute_result"
    }
   ],
   "source": [
    "df = data_loader.load_data('../data/ABtwoCampaignEngView.csv')\n",
    "df"
   ]
  },
  {
   "cell_type": "code",
   "execution_count": 4,
   "id": "d5fc9558",
   "metadata": {},
   "outputs": [
    {
     "data": {
      "text/html": [
       "<div>\n",
       "<style scoped>\n",
       "    .dataframe tbody tr th:only-of-type {\n",
       "        vertical-align: middle;\n",
       "    }\n",
       "\n",
       "    .dataframe tbody tr th {\n",
       "        vertical-align: top;\n",
       "    }\n",
       "\n",
       "    .dataframe thead th {\n",
       "        text-align: right;\n",
       "    }\n",
       "</style>\n",
       "<table border=\"1\" class=\"dataframe\">\n",
       "  <thead>\n",
       "    <tr style=\"text-align: right;\">\n",
       "      <th></th>\n",
       "      <th>experiment</th>\n",
       "      <th>total</th>\n",
       "      <th>yes</th>\n",
       "      <th>no</th>\n",
       "    </tr>\n",
       "  </thead>\n",
       "  <tbody>\n",
       "    <tr>\n",
       "      <th>0</th>\n",
       "      <td>control</td>\n",
       "      <td>456356</td>\n",
       "      <td>10641.0</td>\n",
       "      <td>8258.0</td>\n",
       "    </tr>\n",
       "    <tr>\n",
       "      <th>1</th>\n",
       "      <td>exposed</td>\n",
       "      <td>456356</td>\n",
       "      <td>82132.0</td>\n",
       "      <td>9539.0</td>\n",
       "    </tr>\n",
       "  </tbody>\n",
       "</table>\n",
       "</div>"
      ],
      "text/plain": [
       "  experiment   total      yes      no\n",
       "0    control  456356  10641.0  8258.0\n",
       "1    exposed  456356  82132.0  9539.0"
      ]
     },
     "execution_count": 4,
     "metadata": {},
     "output_type": "execute_result"
    }
   ],
   "source": [
    "ddf = df.groupby('experiment').agg(\n",
    "    {'auction_id': 'count', 'yes': 'sum', 'no': 'sum'}).reset_index()\n",
    "ddf = ddf.rename(columns={'auction_id': 'total'})\n",
    "ddf\n"
   ]
  },
  {
   "cell_type": "code",
   "execution_count": 5,
   "id": "c0a50094",
   "metadata": {},
   "outputs": [],
   "source": [
    "C_total = ddf.total.iloc[0]\n",
    "E_total = ddf.total.iloc[1]"
   ]
  },
  {
   "cell_type": "code",
   "execution_count": 6,
   "id": "9e6f837a",
   "metadata": {},
   "outputs": [],
   "source": [
    "C_aware = ddf.yes.iloc[0]\n",
    "E_aware = ddf.yes.iloc[1]\n"
   ]
  },
  {
   "cell_type": "code",
   "execution_count": 7,
   "id": "99974d42",
   "metadata": {},
   "outputs": [
    {
     "name": "stdout",
     "output_type": "stream",
     "text": [
      "convertion rate for contro gruop = 0.023317322441252005%\n",
      "convertion rate for exposed gruop = 0.17997352943754438%\n"
     ]
    }
   ],
   "source": [
    "C_cr = ddf.yes.iloc[0]/ddf.total.iloc[0]\n",
    "E_cr = ddf.yes.iloc[1]/ddf.total.iloc[1]\n",
    "\n",
    "print('convertion rate for contro gruop = {}%'.format(C_cr))\n",
    "print('convertion rate for exposed gruop = {}%'.format(E_cr))\n"
   ]
  },
  {
   "cell_type": "code",
   "execution_count": 8,
   "id": "f0c325f8",
   "metadata": {},
   "outputs": [
    {
     "data": {
      "image/png": "[encoded data removed]",
      "text/plain": [
       "<Figure size 864x432 with 1 Axes>"
      ]
     },
     "metadata": {
      "needs_background": "light"
     },
     "output_type": "display_data"
    }
   ],
   "source": [
    "#control group distribution with probability of getting the result from our exposed group\n",
    "DP.cont_distribution(C_aware, C_total, C_cr, E_cr)"
   ]
  },
  {
   "cell_type": "code",
   "execution_count": 9,
   "id": "3552f214",
   "metadata": {},
   "outputs": [
    {
     "data": {
      "image/png": "[encoded data removed]",
      "text/plain": [
       "<Figure size 864x432 with 1 Axes>"
      ]
     },
     "metadata": {
      "needs_background": "light"
     },
     "output_type": "display_data"
    }
   ],
   "source": [
    "#control group distribution with probability of getting the result from our exposed group\n",
    "DP.cont_distribution(E_aware, E_total, E_cr, C_cr)\n"
   ]
  },
  {
   "cell_type": "code",
   "execution_count": 10,
   "id": "d506e62f",
   "metadata": {},
   "outputs": [
    {
     "data": {
      "image/png": "[encoded data removed]",
      "text/plain": [
       "<Figure size 864x432 with 1 Axes>"
      ]
     },
     "metadata": {
      "needs_background": "light"
     },
     "output_type": "display_data"
    }
   ],
   "source": [
    "#comparison of control and exposed groups distribution against each other\n",
    "DP.cont_exp_distribution(C_aware, E_aware, C_total, E_total, C_cr, E_cr)"
   ]
  },
  {
   "cell_type": "code",
   "execution_count": 11,
   "id": "c49b64da",
   "metadata": {},
   "outputs": [
    {
     "data": {
      "image/png": "[encoded data removed]",
      "text/plain": [
       "<Figure size 864x432 with 1 Axes>"
      ]
     },
     "metadata": {
      "needs_background": "light"
     },
     "output_type": "display_data"
    }
   ],
   "source": [
    "#Null and alternative hypotheses plots with\n",
    "#statistical power and significance levels defined and represented in the plots\n",
    "DP.null_alt_distribution(C_total, E_total, C_cr, E_cr)"
   ]
  },
  {
   "cell_type": "code",
   "execution_count": 12,
   "id": "1852026d",
   "metadata": {},
   "outputs": [],
   "source": [
    "# ABT.p_val(ddf.yes.iloc[0],  ddf.yes.iloc[1], C_cr, E_cr)\n"
   ]
  },
  {
   "cell_type": "markdown",
   "id": "9b391899",
   "metadata": {},
   "source": [
    "## classical p-value"
   ]
  },
  {
   "cell_type": "code",
   "execution_count": 13,
   "id": "b3dcd935",
   "metadata": {},
   "outputs": [
    {
     "name": "stdout",
     "output_type": "stream",
     "text": [
      "zscore = 247.638, pvalue = 0.000\n"
     ]
    }
   ],
   "source": [
    "zscore, pvalue = hypothesis_test.two_proprotions_test(\n",
    "    ddf.yes.iloc[0], ddf.total.iloc[0],  ddf.yes.iloc[1], ddf.total.iloc[1])\n",
    "print('zscore = {:.3f}, pvalue = {:.3f}'.format(zscore, pvalue))\n"
   ]
  },
  {
   "cell_type": "markdown",
   "id": "d0287ff7",
   "metadata": {},
   "source": [
    "***Assuming 95% confidence level, the new advertising is more successful.\n",
    "p_vlaue = 0.00*** "
   ]
  },
  {
   "cell_type": "markdown",
   "id": "63f30c84",
   "metadata": {},
   "source": [
    "# sequential"
   ]
  },
  {
   "cell_type": "code",
   "execution_count": 14,
   "id": "5a066228",
   "metadata": {},
   "outputs": [
    {
     "name": "stdout",
     "output_type": "stream",
     "text": [
      "E-C = 71491.0\n",
      "E+C = 92773.0\n",
      "N = 912712\n",
      "2*sqrt(N) = 1910.7192363086733\n"
     ]
    }
   ],
   "source": [
    "\n",
    "from ctypes import c_wchar\n",
    "import numpy as np\n",
    "\n",
    "print('E-C = {}'.format(E_aware-C_aware))\n",
    "print('E+C = {}'.format(E_aware+C_aware))\n",
    "print('N = {}'.format(ddf.total.sum()))\n",
    "print('2*sqrt(N) = {}'.format(2*np.sqrt(ddf.total.sum())))\n"
   ]
  },
  {
   "cell_type": "markdown",
   "id": "6f0692ac",
   "metadata": {},
   "source": [
    "- If (T-C) reaches (2*sqrt{N}), stop the test. Declare the treatment to be the winner.\n",
    "- If (T+C) reaches (N), stop the test. Declare no winner."
   ]
  },
  {
   "cell_type": "markdown",
   "id": "14df418c",
   "metadata": {},
   "source": [
    "## Conclusion \n",
    "- According to Even Miller Sequential A/B test:\n",
    "    - If (T-C) reaches (2*sqrt{N}), stop the test. Declare the treatment to be the winner.\n",
    "    - If (T+C) reaches (N), stop the test. Declare no winner.\n",
    "It is possible to reach a conclusion, we do not need additional data. The new ad is winner\n",
    "\n",
    "- Based on the classical test, the p-value is lessan than 0.05, we reject the null hypothesis and accepth the alternative.\n",
    "- The newly designed ad has increased the brand awareness\n",
    "\n"
   ]
  }
 ],
 "metadata": {
  "kernelspec": {
   "display_name": "Python 3.10.5 ('10A')",
   "language": "python",
   "name": "python3"
  },
  "language_info": {
   "codemirror_mode": {
    "name": "ipython",
    "version": 3
   },
   "file_extension": ".py",
   "mimetype": "text/x-python",
   "name": "python",
   "nbconvert_exporter": "python",
   "pygments_lexer": "ipython3",
   "version": "3.10.5"
  },
  "vscode": {
   "interpreter": {
    "hash": "2be9f4616ca1b5198a62cd2082c7feed2682666a7b8fb219311f5849134be0bf"
   }
  }
 },
 "nbformat": 4,
 "nbformat_minor": 5
}
